{
  "nbformat": 4,
  "nbformat_minor": 0,
  "metadata": {
    "colab": {
      "provenance": [],
      "authorship_tag": "ABX9TyMkvYEIBtnMbU2/kgLyJ5CP",
      "include_colab_link": true
    },
    "kernelspec": {
      "name": "python3",
      "display_name": "Python 3"
    },
    "language_info": {
      "name": "python"
    }
  },
  "cells": [
    {
      "cell_type": "markdown",
      "metadata": {
        "id": "view-in-github",
        "colab_type": "text"
      },
      "source": [
        "<a href=\"https://colab.research.google.com/github/ArchaRejeesh/Python-Basics/blob/main/Untitled2.ipynb\" target=\"_parent\"><img src=\"https://colab.research.google.com/assets/colab-badge.svg\" alt=\"Open In Colab\"/></a>"
      ]
    },
    {
      "cell_type": "code",
      "execution_count": 2,
      "metadata": {
        "colab": {
          "base_uri": "https://localhost:8080/"
        },
        "id": "HNhNywqCXoTF",
        "outputId": "46485fbe-0df6-4b6b-95ac-cb0dcbd66f17"
      },
      "outputs": [
        {
          "output_type": "stream",
          "name": "stdout",
          "text": [
            "[1, 2, 3, 4, 5, 6]\n"
          ]
        },
        {
          "output_type": "execute_result",
          "data": {
            "text/plain": [
              "list"
            ]
          },
          "metadata": {},
          "execution_count": 2
        }
      ],
      "source": [
        "x=[1,2,3,4,5,6]\n",
        "print(x)\n",
        "type(x)"
      ]
    },
    {
      "cell_type": "code",
      "source": [
        "x=[10,20,30,40,50]\n",
        "x[2]\n",
        "\n"
      ],
      "metadata": {
        "colab": {
          "base_uri": "https://localhost:8080/"
        },
        "id": "9Z5_N4qqYp7J",
        "outputId": "f44e5bcb-472d-4e80-bbe0-78623a59274a"
      },
      "execution_count": 6,
      "outputs": [
        {
          "output_type": "execute_result",
          "data": {
            "text/plain": [
              "30"
            ]
          },
          "metadata": {},
          "execution_count": 6
        }
      ]
    },
    {
      "cell_type": "code",
      "source": [
        "x[4]"
      ],
      "metadata": {
        "colab": {
          "base_uri": "https://localhost:8080/"
        },
        "id": "pBsv3QY0aL_a",
        "outputId": "e9728d37-a4bc-4308-a819-faacb86d3a5b"
      },
      "execution_count": 7,
      "outputs": [
        {
          "output_type": "execute_result",
          "data": {
            "text/plain": [
              "50"
            ]
          },
          "metadata": {},
          "execution_count": 7
        }
      ]
    },
    {
      "cell_type": "code",
      "source": [
        "x=[10,20,30,40]\n",
        "y=[35,46,22,96]\n",
        "x[0]*y[0]+x[1]*y[1]+x[2]*y[2]+x[3]*y[3]"
      ],
      "metadata": {
        "colab": {
          "base_uri": "https://localhost:8080/"
        },
        "id": "HuEVMfsUaiSK",
        "outputId": "8e51b6a3-8d52-4601-9a45-6a51fe49d86a"
      },
      "execution_count": 13,
      "outputs": [
        {
          "output_type": "execute_result",
          "data": {
            "text/plain": [
              "5770"
            ]
          },
          "metadata": {},
          "execution_count": 13
        }
      ]
    },
    {
      "cell_type": "code",
      "source": [
        "x=[\"kerala\",\"tamilnadu\"]\n",
        "y=[\"chennai\",\"trivandrum\"]\n",
        "print(x[0] +\" is in \" +y[1])"
      ],
      "metadata": {
        "colab": {
          "base_uri": "https://localhost:8080/"
        },
        "id": "2yhwK1vBa6TJ",
        "outputId": "77845c68-5252-413b-f5c7-9baaa8af63b6"
      },
      "execution_count": 21,
      "outputs": [
        {
          "output_type": "stream",
          "name": "stdout",
          "text": [
            "kerala is in trivandrum\n"
          ]
        }
      ]
    },
    {
      "cell_type": "code",
      "source": [
        "print(x[1]+\" is in \"+y[0])"
      ],
      "metadata": {
        "colab": {
          "base_uri": "https://localhost:8080/"
        },
        "id": "RW2C0jKBbKxr",
        "outputId": "60f5981b-2f81-499a-acd2-af9ddfb80866"
      },
      "execution_count": 23,
      "outputs": [
        {
          "output_type": "stream",
          "name": "stdout",
          "text": [
            "tamilnadu is in chennai\n"
          ]
        }
      ]
    },
    {
      "cell_type": "code",
      "source": [
        "x=[10,25,26,36,39,55]\n",
        "x[-1]"
      ],
      "metadata": {
        "colab": {
          "base_uri": "https://localhost:8080/"
        },
        "id": "W7jjJhZIeOc_",
        "outputId": "3e946c21-3d70-47fd-c021-b49ae1ec96d5"
      },
      "execution_count": 25,
      "outputs": [
        {
          "output_type": "execute_result",
          "data": {
            "text/plain": [
              "55"
            ]
          },
          "metadata": {},
          "execution_count": 25
        }
      ]
    },
    {
      "cell_type": "code",
      "source": [
        "x[-2]"
      ],
      "metadata": {
        "colab": {
          "base_uri": "https://localhost:8080/"
        },
        "id": "p99akyp9gISV",
        "outputId": "b9a5ed18-11b9-45d5-b54f-83f385646200"
      },
      "execution_count": 26,
      "outputs": [
        {
          "output_type": "execute_result",
          "data": {
            "text/plain": [
              "39"
            ]
          },
          "metadata": {},
          "execution_count": 26
        }
      ]
    },
    {
      "cell_type": "code",
      "source": [
        "x[-3]"
      ],
      "metadata": {
        "colab": {
          "base_uri": "https://localhost:8080/"
        },
        "id": "biMpPo24gOx8",
        "outputId": "13d21aa7-36cb-4894-de12-b86583ec4f6e"
      },
      "execution_count": 27,
      "outputs": [
        {
          "output_type": "execute_result",
          "data": {
            "text/plain": [
              "36"
            ]
          },
          "metadata": {},
          "execution_count": 27
        }
      ]
    },
    {
      "cell_type": "code",
      "source": [
        "x[-4]"
      ],
      "metadata": {
        "colab": {
          "base_uri": "https://localhost:8080/"
        },
        "id": "JwR5ycmYgRK1",
        "outputId": "8f63bf5d-b350-458e-8f77-aa88636faa37"
      },
      "execution_count": 28,
      "outputs": [
        {
          "output_type": "execute_result",
          "data": {
            "text/plain": [
              "26"
            ]
          },
          "metadata": {},
          "execution_count": 28
        }
      ]
    },
    {
      "cell_type": "code",
      "source": [
        "x[-5]"
      ],
      "metadata": {
        "colab": {
          "base_uri": "https://localhost:8080/"
        },
        "id": "1S4dqn2EgTCV",
        "outputId": "48265498-32ed-4528-a45e-0d2cc87c6b28"
      },
      "execution_count": 29,
      "outputs": [
        {
          "output_type": "execute_result",
          "data": {
            "text/plain": [
              "25"
            ]
          },
          "metadata": {},
          "execution_count": 29
        }
      ]
    },
    {
      "cell_type": "code",
      "source": [
        "x[-6]"
      ],
      "metadata": {
        "colab": {
          "base_uri": "https://localhost:8080/"
        },
        "id": "9MhapWX4gVpF",
        "outputId": "5ccc0344-8448-4aa9-f201-4b1b8894b7c5"
      },
      "execution_count": 30,
      "outputs": [
        {
          "output_type": "execute_result",
          "data": {
            "text/plain": [
              "10"
            ]
          },
          "metadata": {},
          "execution_count": 30
        }
      ]
    },
    {
      "cell_type": "code",
      "source": [
        "x[-5]*x[-3]"
      ],
      "metadata": {
        "colab": {
          "base_uri": "https://localhost:8080/"
        },
        "id": "uDJRKr_egXMF",
        "outputId": "c1846785-6f78-47f5-acef-cd48efd2194c"
      },
      "execution_count": 31,
      "outputs": [
        {
          "output_type": "execute_result",
          "data": {
            "text/plain": [
              "900"
            ]
          },
          "metadata": {},
          "execution_count": 31
        }
      ]
    },
    {
      "cell_type": "code",
      "source": [
        "x[-5]*x[3]"
      ],
      "metadata": {
        "colab": {
          "base_uri": "https://localhost:8080/"
        },
        "id": "7uEh0QEKhJg0",
        "outputId": "c82e0b48-4eaa-4a10-b63f-b3614ddeac91"
      },
      "execution_count": 33,
      "outputs": [
        {
          "output_type": "execute_result",
          "data": {
            "text/plain": [
              "900"
            ]
          },
          "metadata": {},
          "execution_count": 33
        }
      ]
    },
    {
      "cell_type": "code",
      "source": [
        "if x[3]==10:\n",
        " print(\"x is 10\")\n",
        "else:\n",
        "  print(\"x is not 10\")"
      ],
      "metadata": {
        "colab": {
          "base_uri": "https://localhost:8080/"
        },
        "id": "56NJ1XA8iFoV",
        "outputId": "73909fc0-d507-485c-fcf2-e5e361efa618"
      },
      "execution_count": 35,
      "outputs": [
        {
          "output_type": "stream",
          "name": "stdout",
          "text": [
            "x is not 10\n"
          ]
        }
      ]
    },
    {
      "cell_type": "code",
      "source": [
        "if x[3]==10:\n",
        " print(\"x is 55\")\n",
        "else:\n",
        "  print(\"x is not 55\")"
      ],
      "metadata": {
        "colab": {
          "base_uri": "https://localhost:8080/"
        },
        "id": "I3qwrz6cim4U",
        "outputId": "11a9a5c9-c4fa-4bf2-a4b9-dec1a4c3f420"
      },
      "execution_count": 36,
      "outputs": [
        {
          "output_type": "stream",
          "name": "stdout",
          "text": [
            "x is not 55\n"
          ]
        }
      ]
    },
    {
      "cell_type": "code",
      "source": [
        "x=\"archa\"\n",
        "x[0]"
      ],
      "metadata": {
        "colab": {
          "base_uri": "https://localhost:8080/",
          "height": 35
        },
        "id": "253Q8eW6i48v",
        "outputId": "6f2125f2-9144-4090-bb99-b8ddebc68416"
      },
      "execution_count": 37,
      "outputs": [
        {
          "output_type": "execute_result",
          "data": {
            "text/plain": [
              "'a'"
            ],
            "application/vnd.google.colaboratory.intrinsic+json": {
              "type": "string"
            }
          },
          "metadata": {},
          "execution_count": 37
        }
      ]
    },
    {
      "cell_type": "code",
      "source": [
        "x[4]"
      ],
      "metadata": {
        "colab": {
          "base_uri": "https://localhost:8080/",
          "height": 35
        },
        "id": "meBvEliQkBva",
        "outputId": "3fed5ef7-fe46-4091-ba3d-26517bd281cf"
      },
      "execution_count": 39,
      "outputs": [
        {
          "output_type": "execute_result",
          "data": {
            "text/plain": [
              "'a'"
            ],
            "application/vnd.google.colaboratory.intrinsic+json": {
              "type": "string"
            }
          },
          "metadata": {},
          "execution_count": 39
        }
      ]
    },
    {
      "cell_type": "code",
      "source": [
        "x=\"archa\"\n",
        "if x[0]==x[-1]:\n",
        " print(\"same\")\n",
        "else:\n",
        "  print(\"not same\")"
      ],
      "metadata": {
        "colab": {
          "base_uri": "https://localhost:8080/"
        },
        "id": "Ee_Vw9ErkIyi",
        "outputId": "1a213b93-7af3-4e87-ab74-49ba06cf30e9"
      },
      "execution_count": 46,
      "outputs": [
        {
          "output_type": "stream",
          "name": "stdout",
          "text": [
            "same\n"
          ]
        }
      ]
    },
    {
      "cell_type": "code",
      "source": [
        "x=[10,25,26,36,39,55]\n",
        "for a in x:\n",
        "  print(a)"
      ],
      "metadata": {
        "colab": {
          "base_uri": "https://localhost:8080/"
        },
        "id": "Ulk7IBYsk4ZZ",
        "outputId": "438e070b-3193-4c30-883a-a84630ea4232"
      },
      "execution_count": 47,
      "outputs": [
        {
          "output_type": "stream",
          "name": "stdout",
          "text": [
            "10\n",
            "25\n",
            "26\n",
            "36\n",
            "39\n",
            "55\n"
          ]
        }
      ]
    },
    {
      "cell_type": "code",
      "source": [
        "x=\"archa\"\n",
        "for a in x:\n",
        "  print(a)\n"
      ],
      "metadata": {
        "colab": {
          "base_uri": "https://localhost:8080/"
        },
        "id": "O1r4S6p_mqY1",
        "outputId": "b2d6cbfa-1a1f-4f6f-aad7-5ecc98d916ae"
      },
      "execution_count": 50,
      "outputs": [
        {
          "output_type": "stream",
          "name": "stdout",
          "text": [
            "a\n",
            "r\n",
            "c\n",
            "h\n",
            "a\n"
          ]
        }
      ]
    },
    {
      "cell_type": "code",
      "source": [
        "x=\"archa\"\n",
        "for i in x:\n",
        "  if x=='i':\n",
        "     print(\"my name contains i\")\n"
      ],
      "metadata": {
        "id": "jkE_cKwFnFrO"
      },
      "execution_count": 62,
      "outputs": []
    },
    {
      "cell_type": "code",
      "source": [
        "x=[10,25,26,36,39,55]\n",
        "k=0\n",
        "for a in x:\n",
        "  print(\"k=\",k)\n",
        "  print(\"a=\",a)\n",
        "  k=k+a\n",
        "print(\"k+a=\",k)\n"
      ],
      "metadata": {
        "colab": {
          "base_uri": "https://localhost:8080/"
        },
        "id": "USTxpNt3pHiA",
        "outputId": "14902ec0-2ccb-469b-c58a-976cb1b8ed12"
      },
      "execution_count": 73,
      "outputs": [
        {
          "output_type": "stream",
          "name": "stdout",
          "text": [
            "k= 0\n",
            "a= 10\n",
            "k= 10\n",
            "a= 25\n",
            "k= 35\n",
            "a= 26\n",
            "k= 61\n",
            "a= 36\n",
            "k= 97\n",
            "a= 39\n",
            "k= 136\n",
            "a= 55\n",
            "k+a= 191\n"
          ]
        }
      ]
    },
    {
      "cell_type": "code",
      "source": [],
      "metadata": {
        "id": "qEauLpOmsaAa"
      },
      "execution_count": null,
      "outputs": []
    }
  ]
}