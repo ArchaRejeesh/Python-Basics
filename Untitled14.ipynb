{
  "nbformat": 4,
  "nbformat_minor": 0,
  "metadata": {
    "colab": {
      "provenance": [],
      "authorship_tag": "ABX9TyMC+Vl7ISu/eXiu1ozshXlY",
      "include_colab_link": true
    },
    "kernelspec": {
      "name": "python3",
      "display_name": "Python 3"
    },
    "language_info": {
      "name": "python"
    }
  },
  "cells": [
    {
      "cell_type": "markdown",
      "metadata": {
        "id": "view-in-github",
        "colab_type": "text"
      },
      "source": [
        "<a href=\"https://colab.research.google.com/github/ArchaRejeesh/Python-Basics/blob/main/Untitled14.ipynb\" target=\"_parent\"><img src=\"https://colab.research.google.com/assets/colab-badge.svg\" alt=\"Open In Colab\"/></a>"
      ]
    },
    {
      "cell_type": "code",
      "execution_count": 1,
      "metadata": {
        "colab": {
          "base_uri": "https://localhost:8080/"
        },
        "id": "E3hhbMO-1_2l",
        "outputId": "fd9c2b48-5467-4981-f896-194faf487371"
      },
      "outputs": [
        {
          "output_type": "execute_result",
          "data": {
            "text/plain": [
              "int"
            ]
          },
          "metadata": {},
          "execution_count": 1
        }
      ],
      "source": [
        "num=int(23)\n",
        "type(num)"
      ]
    },
    {
      "cell_type": "code",
      "source": [
        "a=\"archa\"\n",
        "type(a)"
      ],
      "metadata": {
        "colab": {
          "base_uri": "https://localhost:8080/"
        },
        "id": "dVlHmhki3eWH",
        "outputId": "a6f3a0c8-6b90-411f-b20c-0def55c5b5ca"
      },
      "execution_count": 2,
      "outputs": [
        {
          "output_type": "execute_result",
          "data": {
            "text/plain": [
              "str"
            ]
          },
          "metadata": {},
          "execution_count": 2
        }
      ]
    },
    {
      "cell_type": "code",
      "source": [
        "a=10.4\n",
        "type(a)"
      ],
      "metadata": {
        "colab": {
          "base_uri": "https://localhost:8080/"
        },
        "id": "JN723-ve3ma0",
        "outputId": "8ed4818c-809b-432a-bf15-076669b45181"
      },
      "execution_count": 4,
      "outputs": [
        {
          "output_type": "execute_result",
          "data": {
            "text/plain": [
              "float"
            ]
          },
          "metadata": {},
          "execution_count": 4
        }
      ]
    },
    {
      "cell_type": "code",
      "source": [
        "c=10+5j\n",
        "type(c)"
      ],
      "metadata": {
        "colab": {
          "base_uri": "https://localhost:8080/"
        },
        "id": "fylG_E5d3re8",
        "outputId": "bea224ff-caeb-4bfb-fa69-b3f2c83f41d1"
      },
      "execution_count": 8,
      "outputs": [
        {
          "output_type": "execute_result",
          "data": {
            "text/plain": [
              "complex"
            ]
          },
          "metadata": {},
          "execution_count": 8
        }
      ]
    },
    {
      "cell_type": "code",
      "source": [
        "a=\"archa\"\n",
        "type(a)"
      ],
      "metadata": {
        "colab": {
          "base_uri": "https://localhost:8080/"
        },
        "id": "IjDsBeQu4E-E",
        "outputId": "64ff5a59-6655-4b44-880c-04fef2781c40"
      },
      "execution_count": 9,
      "outputs": [
        {
          "output_type": "execute_result",
          "data": {
            "text/plain": [
              "str"
            ]
          },
          "metadata": {},
          "execution_count": 9
        }
      ]
    },
    {
      "cell_type": "code",
      "source": [
        "a=\"i archa rejeesh is a student of rajagiri\"\n",
        "type(a)"
      ],
      "metadata": {
        "colab": {
          "base_uri": "https://localhost:8080/"
        },
        "id": "ITFK0liM4dDz",
        "outputId": "3b91b2ec-e3df-406a-98e8-09d5049c0cfd"
      },
      "execution_count": 10,
      "outputs": [
        {
          "output_type": "execute_result",
          "data": {
            "text/plain": [
              "str"
            ]
          },
          "metadata": {},
          "execution_count": 10
        }
      ]
    },
    {
      "cell_type": "code",
      "source": [
        "frds=[10,\"aleena\",\"maria\",\"fiona\",\"thara\",\"joshua\"]\n",
        "type(frds)"
      ],
      "metadata": {
        "colab": {
          "base_uri": "https://localhost:8080/"
        },
        "id": "4CmZ2PqW4nvD",
        "outputId": "fba30054-9349-4473-e556-1bf6f52f9d3c"
      },
      "execution_count": 20,
      "outputs": [
        {
          "output_type": "execute_result",
          "data": {
            "text/plain": [
              "list"
            ]
          },
          "metadata": {},
          "execution_count": 20
        }
      ]
    },
    {
      "cell_type": "code",
      "source": [
        "print(frds[1])"
      ],
      "metadata": {
        "colab": {
          "base_uri": "https://localhost:8080/"
        },
        "id": "8QFZ-DwO5aPx",
        "outputId": "2fb7b6f1-e7fc-4763-d8b2-72ae1aefc6ed"
      },
      "execution_count": 23,
      "outputs": [
        {
          "output_type": "stream",
          "name": "stdout",
          "text": [
            "aleena\n"
          ]
        }
      ]
    },
    {
      "cell_type": "code",
      "source": [
        "frds.pop(2)\n",
        "print(frds)"
      ],
      "metadata": {
        "colab": {
          "base_uri": "https://localhost:8080/"
        },
        "id": "Hyz5QQr97tqI",
        "outputId": "548ed068-1924-4815-d5f0-10f42087ffae"
      },
      "execution_count": 25,
      "outputs": [
        {
          "output_type": "stream",
          "name": "stdout",
          "text": [
            "['aleena', 'maria', 'thara', 'joshua']\n"
          ]
        }
      ]
    },
    {
      "cell_type": "code",
      "source": [
        "frds.append(\"fahad\")\n",
        "print(frds)"
      ],
      "metadata": {
        "colab": {
          "base_uri": "https://localhost:8080/"
        },
        "id": "TCdW8AXq7ts3",
        "outputId": "cd5fe7d0-a647-4070-a003-e50b035baa22"
      },
      "execution_count": 27,
      "outputs": [
        {
          "output_type": "stream",
          "name": "stdout",
          "text": [
            "['aleena', 'maria', 'thara', 'joshua', 'fahad']\n"
          ]
        }
      ]
    },
    {
      "cell_type": "code",
      "source": [
        "frds.sort()\n",
        "print(frds)"
      ],
      "metadata": {
        "colab": {
          "base_uri": "https://localhost:8080/"
        },
        "id": "6aqS4H2N-Fr5",
        "outputId": "b9e2d316-3d66-4763-e1a5-79cb4a41f845"
      },
      "execution_count": 31,
      "outputs": [
        {
          "output_type": "stream",
          "name": "stdout",
          "text": [
            "['aleena', 'fahad', 'joshua', 'maria', 'thara']\n"
          ]
        }
      ]
    },
    {
      "cell_type": "code",
      "source": [],
      "metadata": {
        "id": "8WDOcK2LADbX"
      },
      "execution_count": null,
      "outputs": []
    },
    {
      "cell_type": "code",
      "source": [
        "frds.reverse()\n",
        "print(frds)"
      ],
      "metadata": {
        "colab": {
          "base_uri": "https://localhost:8080/"
        },
        "id": "-Rs42gQa-sQP",
        "outputId": "4727988a-8ec3-4c92-bdfc-36dbdaba11de"
      },
      "execution_count": 32,
      "outputs": [
        {
          "output_type": "stream",
          "name": "stdout",
          "text": [
            "['thara', 'maria', 'joshua', 'fahad', 'aleena']\n"
          ]
        }
      ]
    },
    {
      "cell_type": "code",
      "source": [
        "frds.insert(2,\"amaan\")\n",
        "print(frds)"
      ],
      "metadata": {
        "colab": {
          "base_uri": "https://localhost:8080/"
        },
        "id": "lXyedWRm_gJo",
        "outputId": "920eaa6f-03f2-441b-9d62-35c7ffcdf79a"
      },
      "execution_count": 34,
      "outputs": [
        {
          "output_type": "stream",
          "name": "stdout",
          "text": [
            "['thara', 'maria', 'amaan', 'joshua', 'fahad', 'aleena']\n"
          ]
        }
      ]
    },
    {
      "cell_type": "code",
      "source": [
        "x=[2,3]\n",
        "print(x)"
      ],
      "metadata": {
        "colab": {
          "base_uri": "https://localhost:8080/"
        },
        "id": "jjpyH9UsA6cc",
        "outputId": "e4b98c67-947c-4f40-bde0-714ba0c1fd4d"
      },
      "execution_count": 35,
      "outputs": [
        {
          "output_type": "stream",
          "name": "stdout",
          "text": [
            "[2, 3]\n"
          ]
        }
      ]
    },
    {
      "cell_type": "code",
      "source": [
        "(frds+x)"
      ],
      "metadata": {
        "colab": {
          "base_uri": "https://localhost:8080/"
        },
        "id": "QYp314P3CcTw",
        "outputId": "07ab01ca-23e4-46ae-c838-b86fad995d4e"
      },
      "execution_count": 36,
      "outputs": [
        {
          "output_type": "execute_result",
          "data": {
            "text/plain": [
              "['thara', 'maria', 'amaan', 'joshua', 'fahad', 'aleena', 2, 3]"
            ]
          },
          "metadata": {},
          "execution_count": 36
        }
      ]
    },
    {
      "cell_type": "code",
      "source": [
        "country=(\"india\",\"pakistan\",\"china\",\"nepal\")\n",
        "type(country)"
      ],
      "metadata": {
        "colab": {
          "base_uri": "https://localhost:8080/"
        },
        "id": "7jNqKXSjCfIQ",
        "outputId": "a192e4c5-ab68-4312-b399-766eaae742b7"
      },
      "execution_count": 39,
      "outputs": [
        {
          "output_type": "execute_result",
          "data": {
            "text/plain": [
              "tuple"
            ]
          },
          "metadata": {},
          "execution_count": 39
        }
      ]
    },
    {
      "cell_type": "code",
      "source": [
        "country.pop(2)\n",
        "print(country)"
      ],
      "metadata": {
        "colab": {
          "base_uri": "https://localhost:8080/",
          "height": 183
        },
        "id": "bShkRZKFDQT_",
        "outputId": "9b925630-1ff2-4c93-a9c7-7941cafc793a"
      },
      "execution_count": 43,
      "outputs": [
        {
          "output_type": "error",
          "ename": "AttributeError",
          "evalue": "ignored",
          "traceback": [
            "\u001b[0;31m---------------------------------------------------------------------------\u001b[0m",
            "\u001b[0;31mAttributeError\u001b[0m                            Traceback (most recent call last)",
            "\u001b[0;32m<ipython-input-43-46cc0f6aca19>\u001b[0m in \u001b[0;36m<module>\u001b[0;34m\u001b[0m\n\u001b[0;32m----> 1\u001b[0;31m \u001b[0mcountry\u001b[0m\u001b[0;34m.\u001b[0m\u001b[0mpop\u001b[0m\u001b[0;34m(\u001b[0m\u001b[0;36m2\u001b[0m\u001b[0;34m)\u001b[0m\u001b[0;34m\u001b[0m\u001b[0;34m\u001b[0m\u001b[0m\n\u001b[0m\u001b[1;32m      2\u001b[0m \u001b[0mprint\u001b[0m\u001b[0;34m(\u001b[0m\u001b[0mcountry\u001b[0m\u001b[0;34m)\u001b[0m\u001b[0;34m\u001b[0m\u001b[0;34m\u001b[0m\u001b[0m\n",
            "\u001b[0;31mAttributeError\u001b[0m: 'tuple' object has no attribute 'pop'"
          ]
        }
      ]
    },
    {
      "cell_type": "code",
      "source": [
        "h={1,2,3,4,5,6,8.9}\n",
        "type(h)"
      ],
      "metadata": {
        "colab": {
          "base_uri": "https://localhost:8080/"
        },
        "id": "hv4g9DfvExd3",
        "outputId": "2592ea7a-6b72-4cd3-eaef-7636c32c30c8"
      },
      "execution_count": 45,
      "outputs": [
        {
          "output_type": "execute_result",
          "data": {
            "text/plain": [
              "set"
            ]
          },
          "metadata": {},
          "execution_count": 45
        }
      ]
    },
    {
      "cell_type": "code",
      "source": [
        "mark=[10,20,20,30,40]\n",
        "set1=set(mark)\n",
        "print(set1)"
      ],
      "metadata": {
        "colab": {
          "base_uri": "https://localhost:8080/"
        },
        "id": "pqDRLAe0FkjD",
        "outputId": "e8c276a0-dd8b-4ec1-e40b-635500b6ec5e"
      },
      "execution_count": 48,
      "outputs": [
        {
          "output_type": "stream",
          "name": "stdout",
          "text": [
            "{40, 10, 20, 30}\n"
          ]
        }
      ]
    },
    {
      "cell_type": "code",
      "source": [
        "m={\"name\":\"archa\",\"course\":\"bcom\",\"number\":97783519}\n",
        "m[\"years\"]=122\n",
        "print(m)"
      ],
      "metadata": {
        "colab": {
          "base_uri": "https://localhost:8080/"
        },
        "id": "t328-vZpGmYx",
        "outputId": "8c7a0ca9-a0ce-4296-d30e-60bfd5666e53"
      },
      "execution_count": 55,
      "outputs": [
        {
          "output_type": "stream",
          "name": "stdout",
          "text": [
            "{'name': 'archa', 'course': 'bcom', 'number': 97783519, 'years': 122}\n"
          ]
        }
      ]
    },
    {
      "cell_type": "code",
      "source": [
        "def add(x,y):\n",
        "  return(x+y)\n",
        "  add(2,3)"
      ],
      "metadata": {
        "id": "fczBSPAqJYyD"
      },
      "execution_count": 57,
      "outputs": []
    },
    {
      "cell_type": "code",
      "source": [
        "def product(x,y,z):\n",
        "     return(x*y*z)\n",
        "product(2,3,4)"
      ],
      "metadata": {
        "colab": {
          "base_uri": "https://localhost:8080/"
        },
        "id": "HpCJwQ-tKe4m",
        "outputId": "7fe8f5f0-5e37-4ed8-c76f-084b29415d3e"
      },
      "execution_count": 62,
      "outputs": [
        {
          "output_type": "execute_result",
          "data": {
            "text/plain": [
              "24"
            ]
          },
          "metadata": {},
          "execution_count": 62
        }
      ]
    },
    {
      "cell_type": "code",
      "source": [],
      "metadata": {
        "id": "vNaV2vIzMRLF"
      },
      "execution_count": null,
      "outputs": []
    }
  ]
}