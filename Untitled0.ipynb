{
  "nbformat": 4,
  "nbformat_minor": 0,
  "metadata": {
    "colab": {
      "provenance": [],
      "authorship_tag": "ABX9TyN0QMuHx4rOCvcd6N0GiMTn",
      "include_colab_link": true
    },
    "kernelspec": {
      "name": "python3",
      "display_name": "Python 3"
    },
    "language_info": {
      "name": "python"
    }
  },
  "cells": [
    {
      "cell_type": "markdown",
      "metadata": {
        "id": "view-in-github",
        "colab_type": "text"
      },
      "source": [
        "<a href=\"https://colab.research.google.com/github/ArchaRejeesh/Python-Basics/blob/main/Untitled0.ipynb\" target=\"_parent\"><img src=\"https://colab.research.google.com/assets/colab-badge.svg\" alt=\"Open In Colab\"/></a>"
      ]
    },
    {
      "cell_type": "code",
      "execution_count": 1,
      "metadata": {
        "colab": {
          "base_uri": "https://localhost:8080/"
        },
        "id": "zOZpWmmmdurv",
        "outputId": "8561b396-06b7-4e39-9a11-837beef0c72e"
      },
      "outputs": [
        {
          "name": "stdout",
          "output_type": "stream",
          "text": [
            "50\n"
          ]
        }
      ],
      "source": [
        "mark=int(input())                                                                                                                                                                                                                                                                                                                                                                                                                                  "
      ]
    },
    {
      "cell_type": "code",
      "source": [
        "mark=int(input(\"enter the mark\"))\n",
        "if mark >50:\n",
        "  print (\" you are passed\")\n",
        "if mark <50:\n",
        "    print (\" you are passed\")\n",
        "if mark ==50:\n",
        "      print(\" just passed\")\n"
      ],
      "metadata": {
        "colab": {
          "base_uri": "https://localhost:8080/"
        },
        "id": "tL03eloRg4Yc",
        "outputId": "91f204c9-949e-479c-fc6c-4011d56b3c85"
      },
      "execution_count": 16,
      "outputs": [
        {
          "output_type": "stream",
          "name": "stdout",
          "text": [
            "enter the mark50\n",
            " just passed\n"
          ]
        }
      ]
    },
    {
      "cell_type": "code",
      "source": [
        "salary=int(input(\"\"))"
      ],
      "metadata": {
        "colab": {
          "base_uri": "https://localhost:8080/"
        },
        "id": "3KWcnO3ch-IB",
        "outputId": "f4cf959d-9437-4032-c3c3-00c95baf731e"
      },
      "execution_count": 17,
      "outputs": [
        {
          "name": "stdout",
          "output_type": "stream",
          "text": [
            "250000\n"
          ]
        }
      ]
    },
    {
      "cell_type": "code",
      "source": [
        "salary=int(input(\"enter the amount \"))\n",
        "if salary <250000:\n",
        "  print(\"No Tax\")\n",
        "if salary >=250000:\n",
        "  print(\"taxable\")\n",
        "  print((salary-250000)*10/100)"
      ],
      "metadata": {
        "colab": {
          "base_uri": "https://localhost:8080/"
        },
        "id": "vMLVCkp7jTvN",
        "outputId": "cbdf3e5d-47ed-4c37-cbf9-255eeb3fe2b5"
      },
      "execution_count": 47,
      "outputs": [
        {
          "output_type": "stream",
          "name": "stdout",
          "text": [
            "enter the amount 300000\n",
            "taxable\n",
            "5000.0\n"
          ]
        }
      ]
    },
    {
      "cell_type": "code",
      "source": [],
      "metadata": {
        "id": "9pqk7rNLloHL"
      },
      "execution_count": 47,
      "outputs": []
    },
    {
      "cell_type": "code",
      "source": [],
      "metadata": {
        "id": "WqkOfRm4uep6"
      },
      "execution_count": null,
      "outputs": []
    }
  ]
}