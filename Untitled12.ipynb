{
  "nbformat": 4,
  "nbformat_minor": 0,
  "metadata": {
    "colab": {
      "provenance": [],
      "authorship_tag": "ABX9TyMU8eBmfZmRmdFxu8AVp0Rc",
      "include_colab_link": true
    },
    "kernelspec": {
      "name": "python3",
      "display_name": "Python 3"
    },
    "language_info": {
      "name": "python"
    }
  },
  "cells": [
    {
      "cell_type": "markdown",
      "metadata": {
        "id": "view-in-github",
        "colab_type": "text"
      },
      "source": [
        "<a href=\"https://colab.research.google.com/github/ArchaRejeesh/Python-Basics/blob/main/Untitled12.ipynb\" target=\"_parent\"><img src=\"https://colab.research.google.com/assets/colab-badge.svg\" alt=\"Open In Colab\"/></a>"
      ]
    },
    {
      "cell_type": "code",
      "execution_count": 3,
      "metadata": {
        "colab": {
          "base_uri": "https://localhost:8080/"
        },
        "id": "zoDXDXOGhGwi",
        "outputId": "f1eec431-3fe6-4ee1-f403-9b118279b410"
      },
      "outputs": [
        {
          "output_type": "stream",
          "name": "stdout",
          "text": [
            "enter the number-5\n",
            "5\n"
          ]
        }
      ],
      "source": [
        "x=int(input(\"enter the number\"))\n",
        "if x<0:\n",
        "  print(x*-1)\n",
        "else:\n",
        "  print(x)\n"
      ]
    },
    {
      "cell_type": "code",
      "source": [
        "\n",
        " \n",
        "   "
      ],
      "metadata": {
        "colab": {
          "base_uri": "https://localhost:8080/",
          "height": 252
        },
        "id": "uG8bd_tjjuYF",
        "outputId": "e7e7656e-40c4-450d-e10a-2c4027b7d948"
      },
      "execution_count": 6,
      "outputs": [
        {
          "name": "stdout",
          "output_type": "stream",
          "text": [
            "enter the marks44\n"
          ]
        },
        {
          "output_type": "error",
          "ename": "TypeError",
          "evalue": "ignored",
          "traceback": [
            "\u001b[0;31m---------------------------------------------------------------------------\u001b[0m",
            "\u001b[0;31mTypeError\u001b[0m                                 Traceback (most recent call last)",
            "\u001b[0;32m<ipython-input-6-05caab1f5f60>\u001b[0m in \u001b[0;36m<module>\u001b[0;34m\u001b[0m\n\u001b[1;32m      1\u001b[0m \u001b[0mx\u001b[0m\u001b[0;34m=\u001b[0m\u001b[0;34m(\u001b[0m\u001b[0minput\u001b[0m\u001b[0;34m(\u001b[0m\u001b[0;34m\"enter the marks\"\u001b[0m\u001b[0;34m)\u001b[0m\u001b[0;34m)\u001b[0m\u001b[0;34m\u001b[0m\u001b[0;34m\u001b[0m\u001b[0m\n\u001b[0;32m----> 2\u001b[0;31m \u001b[0;32mif\u001b[0m \u001b[0mx\u001b[0m\u001b[0;34m<\u001b[0m\u001b[0;36m25\u001b[0m\u001b[0;34m:\u001b[0m\u001b[0;34m\u001b[0m\u001b[0;34m\u001b[0m\u001b[0m\n\u001b[0m\u001b[1;32m      3\u001b[0m   \u001b[0mprint\u001b[0m\u001b[0;34m(\u001b[0m\u001b[0;34m\"f\"\u001b[0m\u001b[0;34m)\u001b[0m\u001b[0;34m\u001b[0m\u001b[0;34m\u001b[0m\u001b[0m\n\u001b[1;32m      4\u001b[0m \u001b[0;32melif\u001b[0m \u001b[0mx\u001b[0m\u001b[0;34m<\u001b[0m\u001b[0;36m25\u001b[0m \u001b[0;32mand\u001b[0m \u001b[0mx\u001b[0m\u001b[0;34m<\u001b[0m\u001b[0;36m45\u001b[0m\u001b[0;34m:\u001b[0m\u001b[0;34m\u001b[0m\u001b[0;34m\u001b[0m\u001b[0m\n\u001b[1;32m      5\u001b[0m   \u001b[0mprint\u001b[0m\u001b[0;34m(\u001b[0m\u001b[0;34m\"e\"\u001b[0m\u001b[0;34m)\u001b[0m\u001b[0;34m\u001b[0m\u001b[0;34m\u001b[0m\u001b[0m\n",
            "\u001b[0;31mTypeError\u001b[0m: '<' not supported between instances of 'str' and 'int'"
          ]
        }
      ]
    },
    {
      "cell_type": "code",
      "source": [
        "x=int(input(\"enter a number\"))\n",
        "if x>80:\n",
        "  print(\"A\")\n",
        "elif x>60 and x<=80:\n",
        "  print(\"B\")\n",
        "elif x>50 and x<=60:\n",
        "  print(\"c\")\n",
        "elif x>45 and x<=50:\n",
        "  print(\"D\")\n",
        "elif x>25 and x<=45:\n",
        "  print(\"E\")\n",
        "else:\n",
        "  print(\"f\")\n",
        "  "
      ],
      "metadata": {
        "colab": {
          "base_uri": "https://localhost:8080/"
        },
        "id": "t7zoprYXn589",
        "outputId": "95c8f7ad-fe15-4831-beee-07891113d7a2"
      },
      "execution_count": 7,
      "outputs": [
        {
          "output_type": "stream",
          "name": "stdout",
          "text": [
            "enter a number23\n",
            "f\n"
          ]
        }
      ]
    },
    {
      "cell_type": "code",
      "source": [
        "x=int(input(\"enter number of classes held\"))\n",
        "y=int(input(\"enter number of classes attended\"))\n",
        "z=(y/x*100)\n",
        "if z>75:\n",
        "  print(\"allowed to enter\")\n",
        "else:\n",
        "  print(\"not allowed\")"
      ],
      "metadata": {
        "colab": {
          "base_uri": "https://localhost:8080/"
        },
        "id": "hEvafilVo8C9",
        "outputId": "8dec36d1-7f00-44b6-c5e7-8af6b53e1bb5"
      },
      "execution_count": 20,
      "outputs": [
        {
          "output_type": "stream",
          "name": "stdout",
          "text": [
            "enter number of classes held60\n",
            "enter number of classes attended40\n",
            "not allowed\n"
          ]
        }
      ]
    },
    {
      "cell_type": "code",
      "source": [
        "print(\"1.addition\")\n",
        "print(\"2.subtraction\")\n",
        "print(\"3.multiplication\")\n",
        "print(\"4.division\")\n",
        "print(\"5.modulus\")\n",
        "print(\"6.floor division\")\n",
        "print(\"7.exponent\")\n",
        "x=int(input(\"select a number\"))\n",
        "m1=int(input(\"enter a number\"))\n",
        "m2=int(input(\"enter a number\"))\n",
        "if x==1:\n",
        "  print(m1+m2)\n",
        "if x==2:\n",
        "  print(m1-m2)\n",
        "if x==3:\n",
        "  print(m1*m2)\n",
        "if x==4:\n",
        "  print(m1/m2)\n",
        "if x==5:\n",
        "  print(m1%m2)   \n",
        "if x==6:\n",
        "  print(m1//m2)\n",
        "if x==7:\n",
        "  print(m1**m2)       \n",
        "  "
      ],
      "metadata": {
        "colab": {
          "base_uri": "https://localhost:8080/"
        },
        "id": "hEvIS-OwqFSM",
        "outputId": "954ec1a8-06ec-437b-cc95-a4ffe1d27229"
      },
      "execution_count": 22,
      "outputs": [
        {
          "output_type": "stream",
          "name": "stdout",
          "text": [
            "1.addition\n",
            "2.subtraction\n",
            "3.multiplication\n",
            "4.division\n",
            "5.modulus\n",
            "6.floor division\n",
            "7.exponent\n",
            "select a number7\n",
            "enter a number6\n",
            "enter a number5\n",
            "7776\n"
          ]
        }
      ]
    },
    {
      "cell_type": "code",
      "source": [
        "m1=int(input('Enter marks of first sub '))\n",
        "m2=int(input('Enter marks of second sub '))\n",
        "m3=int(input('Enter marks of third sub'))\n",
        "m4=int(input('Enter marks of fourth sub '))\n",
        "m5=int(input('Enter marks of fifth sub '))\n",
        "print('Least marks:',min(m1,m2,m3,m4,m5))\n",
        "print('Maximum marks:',max(m1,m2,m3,m4,m5))"
      ],
      "metadata": {
        "colab": {
          "base_uri": "https://localhost:8080/"
        },
        "id": "AgKVHlj-rJkx",
        "outputId": "9b40653a-7b26-4944-ac1d-9e5e44bf0969"
      },
      "execution_count": 23,
      "outputs": [
        {
          "output_type": "stream",
          "name": "stdout",
          "text": [
            "Enter marks of first subject 4\n",
            "Enter marks of second subject 3\n",
            "Enter marks of third subject 4\n",
            "Enter marks of fourth subject 5\n",
            "Enter marks of fifth subject 4\n",
            "Least marks: 3\n",
            "Maximum marks: 5\n"
          ]
        }
      ]
    },
    {
      "cell_type": "code",
      "source": [
        "x=input(\"enter a name\")\n",
        "if x.isupper():\n",
        "  print(x.lower())\n",
        "if x.islower():\n",
        "  print(x.upper())\n",
        "len(x)\n",
        "  "
      ],
      "metadata": {
        "colab": {
          "base_uri": "https://localhost:8080/"
        },
        "id": "TSWMZvCE0_MJ",
        "outputId": "aa635a9e-d672-4f41-97b1-90f5c3fdda07"
      },
      "execution_count": 24,
      "outputs": [
        {
          "output_type": "stream",
          "name": "stdout",
          "text": [
            "enter a namearcha\n",
            "ARCHA\n"
          ]
        },
        {
          "output_type": "execute_result",
          "data": {
            "text/plain": [
              "5"
            ]
          },
          "metadata": {},
          "execution_count": 24
        }
      ]
    },
    {
      "cell_type": "code",
      "source": [],
      "metadata": {
        "id": "h81tYHRT4WL0"
      },
      "execution_count": null,
      "outputs": []
    }
  ]
}