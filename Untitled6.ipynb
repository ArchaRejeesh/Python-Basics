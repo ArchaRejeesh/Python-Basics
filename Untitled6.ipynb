{
  "nbformat": 4,
  "nbformat_minor": 0,
  "metadata": {
    "colab": {
      "provenance": [],
      "authorship_tag": "ABX9TyP2Zm7SkvD1LRYYexzocA2m",
      "include_colab_link": true
    },
    "kernelspec": {
      "name": "python3",
      "display_name": "Python 3"
    },
    "language_info": {
      "name": "python"
    }
  },
  "cells": [
    {
      "cell_type": "markdown",
      "metadata": {
        "id": "view-in-github",
        "colab_type": "text"
      },
      "source": [
        "<a href=\"https://colab.research.google.com/github/ArchaRejeesh/Python-Basics/blob/main/Untitled6.ipynb\" target=\"_parent\"><img src=\"https://colab.research.google.com/assets/colab-badge.svg\" alt=\"Open In Colab\"/></a>"
      ]
    },
    {
      "cell_type": "code",
      "execution_count": null,
      "metadata": {
        "id": "l8qhDx-xFHTl"
      },
      "outputs": [],
      "source": [
        "def archa():\n",
        " print(\"hello world\")"
      ]
    },
    {
      "cell_type": "code",
      "source": [
        "archa()"
      ],
      "metadata": {
        "colab": {
          "base_uri": "https://localhost:8080/"
        },
        "id": "_4i6XNqgIB-Q",
        "outputId": "f46f5008-8671-4eb3-fe2e-03bc5e79334c"
      },
      "execution_count": null,
      "outputs": [
        {
          "output_type": "stream",
          "name": "stdout",
          "text": [
            "hello world\n"
          ]
        }
      ]
    },
    {
      "cell_type": "code",
      "source": [
        "def archa(x,y):\n",
        " z=x+y\n",
        " print(\"result=\",z)"
      ],
      "metadata": {
        "id": "cwZvlBbSITFV"
      },
      "execution_count": null,
      "outputs": []
    },
    {
      "cell_type": "code",
      "source": [
        "archa(3,4)"
      ],
      "metadata": {
        "colab": {
          "base_uri": "https://localhost:8080/"
        },
        "id": "m-U5cncFJg6C",
        "outputId": "9d093e3e-4af9-4eca-9cb9-e4cebc049a36"
      },
      "execution_count": null,
      "outputs": [
        {
          "output_type": "stream",
          "name": "stdout",
          "text": [
            "result= 7\n"
          ]
        }
      ]
    },
    {
      "cell_type": "code",
      "source": [
        "def archa(x,y):\n",
        " z=x*y\n",
        " print(\"result=\",z)"
      ],
      "metadata": {
        "id": "jTORoH4_JkLp"
      },
      "execution_count": null,
      "outputs": []
    },
    {
      "cell_type": "code",
      "source": [
        "archa(2,3)"
      ],
      "metadata": {
        "colab": {
          "base_uri": "https://localhost:8080/"
        },
        "id": "cgkQSUGVKJea",
        "outputId": "1a32da98-ef31-4474-af2a-9c65670915f6"
      },
      "execution_count": null,
      "outputs": [
        {
          "output_type": "stream",
          "name": "stdout",
          "text": [
            "result= 6\n"
          ]
        }
      ]
    },
    {
      "cell_type": "code",
      "source": [
        "def archa(x,y):\n",
        " z=x/y\n",
        " print(\"result=\",z)"
      ],
      "metadata": {
        "id": "t9YPnddWKMC8"
      },
      "execution_count": null,
      "outputs": []
    },
    {
      "cell_type": "code",
      "source": [
        "archa(3,4)"
      ],
      "metadata": {
        "colab": {
          "base_uri": "https://localhost:8080/"
        },
        "id": "qQS5bzmZKSUA",
        "outputId": "db18403c-d437-473c-9907-6ddbbf5753a3"
      },
      "execution_count": null,
      "outputs": [
        {
          "output_type": "stream",
          "name": "stdout",
          "text": [
            "result= 0.75\n"
          ]
        }
      ]
    },
    {
      "cell_type": "code",
      "source": [
        "def archa(x,y):\n",
        " z=x-y\n",
        " print(\"result=\",z)"
      ],
      "metadata": {
        "id": "XSRqq3QRKUr9"
      },
      "execution_count": null,
      "outputs": []
    },
    {
      "cell_type": "code",
      "source": [
        "archa(3,4)"
      ],
      "metadata": {
        "colab": {
          "base_uri": "https://localhost:8080/"
        },
        "id": "1lAvyCMnKk4C",
        "outputId": "83a7adfe-b1b8-4dd6-f1db-4b7bbd7cdf13"
      },
      "execution_count": null,
      "outputs": [
        {
          "output_type": "stream",
          "name": "stdout",
          "text": [
            "result= -1\n"
          ]
        }
      ]
    },
    {
      "cell_type": "code",
      "source": [
        "def archa(salary):\n",
        "  if salary<250000:\n",
        "    print(\"no tax\")\n",
        "  if salary>250000:\n",
        "    print(\" tax\")"
      ],
      "metadata": {
        "id": "-F5Ougk9KpVd"
      },
      "execution_count": null,
      "outputs": []
    },
    {
      "cell_type": "code",
      "source": [
        "def archa(y):\n",
        " if y<250000:\n",
        "   print(\"no tax\")\n",
        " if y>250000:\n",
        "     print(\" tax\")\n"
      ],
      "metadata": {
        "id": "CVJ1gNMvN2wL"
      },
      "execution_count": null,
      "outputs": []
    },
    {
      "cell_type": "code",
      "source": [
        "x=int(input(\"enter a salary\"))\n",
        "archa(x)"
      ],
      "metadata": {
        "colab": {
          "base_uri": "https://localhost:8080/"
        },
        "id": "qdRqhqDvOZSE",
        "outputId": "f62876b8-c8e9-464b-9b53-f3493ce24042"
      },
      "execution_count": null,
      "outputs": [
        {
          "output_type": "stream",
          "name": "stdout",
          "text": [
            "enter a salary300000\n",
            " tax\n"
          ]
        }
      ]
    },
    {
      "cell_type": "code",
      "source": [
        "def archa(p):\n",
        "  k=0\n",
        "  for a in range(1,p):\n",
        "   k=k+a\n",
        "  print(k) "
      ],
      "metadata": {
        "id": "0pS4os4XOloz"
      },
      "execution_count": 34,
      "outputs": []
    },
    {
      "cell_type": "code",
      "source": [],
      "metadata": {
        "id": "hwhz45h9Xi_A"
      },
      "execution_count": null,
      "outputs": []
    },
    {
      "cell_type": "code",
      "source": [
        "archa(101)"
      ],
      "metadata": {
        "id": "4Z6g3nVlSsRl",
        "colab": {
          "base_uri": "https://localhost:8080/"
        },
        "outputId": "d11a5fce-cdb5-428b-dfe2-5d07f9777255"
      },
      "execution_count": 35,
      "outputs": [
        {
          "output_type": "stream",
          "name": "stdout",
          "text": [
            "5050\n"
          ]
        }
      ]
    },
    {
      "cell_type": "code",
      "source": [
        "def add(x,y):\n",
        "  print(x+y)\n",
        "def add(x,y):\n",
        "  print(x-y)"
      ],
      "metadata": {
        "id": "vYmwFOiwWdPp"
      },
      "execution_count": 38,
      "outputs": []
    },
    {
      "cell_type": "code",
      "source": [
        "x=int(input(\"enter a number\"))\n",
        "y=int(input(\"enter a number\"))\n",
        "add(x,y)"
      ],
      "metadata": {
        "colab": {
          "base_uri": "https://localhost:8080/"
        },
        "id": "LF1-vnKnXQVs",
        "outputId": "d91360ae-4eab-421d-989f-aedb3de194aa"
      },
      "execution_count": 45,
      "outputs": [
        {
          "output_type": "stream",
          "name": "stdout",
          "text": [
            "enter a number4\n",
            "enter a number5\n",
            "-1\n"
          ]
        }
      ]
    },
    {
      "cell_type": "code",
      "source": [],
      "metadata": {
        "id": "Q88zl82iYNGn"
      },
      "execution_count": 41,
      "outputs": []
    }
  ]
}