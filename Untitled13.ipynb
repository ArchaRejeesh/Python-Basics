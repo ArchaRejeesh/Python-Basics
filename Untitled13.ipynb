{
  "nbformat": 4,
  "nbformat_minor": 0,
  "metadata": {
    "colab": {
      "provenance": [],
      "authorship_tag": "ABX9TyMoUiIPfIttPn3BPoLNlEIo",
      "include_colab_link": true
    },
    "kernelspec": {
      "name": "python3",
      "display_name": "Python 3"
    },
    "language_info": {
      "name": "python"
    }
  },
  "cells": [
    {
      "cell_type": "markdown",
      "metadata": {
        "id": "view-in-github",
        "colab_type": "text"
      },
      "source": [
        "<a href=\"https://colab.research.google.com/github/ArchaRejeesh/Python-Basics/blob/main/Untitled13.ipynb\" target=\"_parent\"><img src=\"https://colab.research.google.com/assets/colab-badge.svg\" alt=\"Open In Colab\"/></a>"
      ]
    },
    {
      "cell_type": "code",
      "execution_count": 1,
      "metadata": {
        "colab": {
          "base_uri": "https://localhost:8080/"
        },
        "id": "8cYJBkwozyuR",
        "outputId": "b687cb0f-992d-4ecb-a6d1-d618ab9725cf"
      },
      "outputs": [
        {
          "output_type": "stream",
          "name": "stdout",
          "text": [
            "Enter a number 12\n",
            "1 x 12 = 12\n",
            "2 x 12 = 24\n",
            "3 x 12 = 36\n",
            "4 x 12 = 48\n",
            "5 x 12 = 60\n",
            "6 x 12 = 72\n",
            "7 x 12 = 84\n",
            "8 x 12 = 96\n",
            "9 x 12 = 108\n",
            "10 x 12 = 120\n"
          ]
        }
      ],
      "source": [
        "n=int(input('Enter a number '))\n",
        "for i in range(1,11):\n",
        "  print(i,'x',n,'=',i*n)"
      ]
    },
    {
      "cell_type": "code",
      "source": [
        "n=int(input('Enter a number '))\n",
        "a=1\n",
        "while a<=10:\n",
        "  print(a,'x',n,'=',a*n)\n",
        "  a=a+1"
      ],
      "metadata": {
        "colab": {
          "base_uri": "https://localhost:8080/"
        },
        "id": "b3KD0A6r1ytq",
        "outputId": "f5c711d8-41d3-448b-c30b-fe996cef2609"
      },
      "execution_count": 2,
      "outputs": [
        {
          "output_type": "stream",
          "name": "stdout",
          "text": [
            "Enter a number 3\n",
            "1 x 3 = 3\n",
            "2 x 3 = 6\n",
            "3 x 3 = 9\n",
            "4 x 3 = 12\n",
            "5 x 3 = 15\n",
            "6 x 3 = 18\n",
            "7 x 3 = 21\n",
            "8 x 3 = 24\n",
            "9 x 3 = 27\n",
            "10 x 3 = 30\n"
          ]
        }
      ]
    },
    {
      "cell_type": "code",
      "source": [
        "num=(input('Enter a number '))\n",
        "d=0\n",
        "for i in num:\n",
        "  #print(i) \n",
        "  d=d+1\n",
        "print(d)"
      ],
      "metadata": {
        "colab": {
          "base_uri": "https://localhost:8080/"
        },
        "id": "CDWUfoND2htY",
        "outputId": "13b4e19d-ace5-457f-9d27-9eab7e3be5a1"
      },
      "execution_count": 7,
      "outputs": [
        {
          "output_type": "stream",
          "name": "stdout",
          "text": [
            "Enter a number 1547\n",
            "4\n"
          ]
        }
      ]
    },
    {
      "cell_type": "code",
      "source": [
        "x=(input('Enter a name'))\n",
        "x=x.replace('a','r')\n",
        "print(x)"
      ],
      "metadata": {
        "colab": {
          "base_uri": "https://localhost:8080/"
        },
        "id": "WMVfn_yq3M_g",
        "outputId": "3b3d7d46-6f72-469b-87a6-71ba09d72f2e"
      },
      "execution_count": 13,
      "outputs": [
        {
          "output_type": "stream",
          "name": "stdout",
          "text": [
            "Enter a namearcha\n",
            "rrchr\n"
          ]
        }
      ]
    },
    {
      "cell_type": "code",
      "source": [
        "m1=[\"america\",\"canada\",\"nepal\",\"pakistan\",\"russia\"]\n",
        "print(m1)\n",
        "m1.append(\"france\")\n",
        "print(m1)\n",
        "m1.remove(\"russia\")\n",
        "print(m1)\n",
        "m1.reverse()\n",
        "print(m1)\n",
        "m1.append(\"uk\")\n",
        "print(m1)\n",
        "len(m1)\n"
      ],
      "metadata": {
        "colab": {
          "base_uri": "https://localhost:8080/"
        },
        "id": "MSyQ2r0682_E",
        "outputId": "d249d3dd-ce05-4a02-9689-9bde52d085fe"
      },
      "execution_count": 23,
      "outputs": [
        {
          "output_type": "stream",
          "name": "stdout",
          "text": [
            "['america', 'canada', 'nepal', 'pakistan', 'russia']\n",
            "['america', 'canada', 'nepal', 'pakistan', 'russia', 'france']\n",
            "['america', 'canada', 'nepal', 'pakistan', 'france']\n",
            "['france', 'pakistan', 'nepal', 'canada', 'america']\n",
            "['france', 'pakistan', 'nepal', 'canada', 'america', 'uk']\n"
          ]
        },
        {
          "output_type": "execute_result",
          "data": {
            "text/plain": [
              "6"
            ]
          },
          "metadata": {},
          "execution_count": 23
        }
      ]
    },
    {
      "cell_type": "code",
      "source": [],
      "metadata": {
        "id": "PQyFdk5d_gC1"
      },
      "execution_count": null,
      "outputs": []
    }
  ]
}