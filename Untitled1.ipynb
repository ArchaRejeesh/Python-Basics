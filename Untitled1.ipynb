{
  "nbformat": 4,
  "nbformat_minor": 0,
  "metadata": {
    "colab": {
      "provenance": [],
      "authorship_tag": "ABX9TyOELb4aKgDhT9AfPAjARFuX",
      "include_colab_link": true
    },
    "kernelspec": {
      "name": "python3",
      "display_name": "Python 3"
    },
    "language_info": {
      "name": "python"
    }
  },
  "cells": [
    {
      "cell_type": "markdown",
      "metadata": {
        "id": "view-in-github",
        "colab_type": "text"
      },
      "source": [
        "<a href=\"https://colab.research.google.com/github/ArchaRejeesh/Python-Basics/blob/main/Untitled1.ipynb\" target=\"_parent\"><img src=\"https://colab.research.google.com/assets/colab-badge.svg\" alt=\"Open In Colab\"/></a>"
      ]
    },
    {
      "cell_type": "code",
      "execution_count": 45,
      "metadata": {
        "colab": {
          "base_uri": "https://localhost:8080/"
        },
        "id": "CKgJJH7fFUCy",
        "outputId": "8eabb5bd-25dc-4126-eb80-b37923ecc53e"
      },
      "outputs": [
        {
          "output_type": "stream",
          "name": "stdout",
          "text": [
            "enter the amount 15000000\n",
            "tax  2425000.0\n"
          ]
        }
      ],
      "source": [
        "salary=int(input(\"enter the amount \"))\n",
        "if salary <250000:\n",
        "  print(\"No Tax\")\n",
        "if salary>=250000 and salary<=500000:\n",
        "  print(\"taxable\")\n",
        "  x=salary-250000\n",
        "  print(\"tax \",x*0.10/100) \n",
        "if salary>500000 and salary<=750000:\n",
        "  print(\"taxable\")\n",
        "  y=salary-500000\n",
        "  x=250000*10/100\n",
        "  print(\"tax \",((y*0.20/100)+x)) \n",
        "if salary>750000 and salary<10000000:\n",
        "   y=250000*10/100\n",
        "   x=250000*20/100\n",
        "   z=(salary-750000)*0.30/100\n",
        "   print(\"tax \",((z*30/100)+y+x))\n",
        "if salary > 10000000:\n",
        "   y=250000*10/100\n",
        "   x=250000*20/100\n",
        "   z=(salary-7500000)*30/100\n",
        "   a=(salary-10000000)*2/100\n",
        "   print(\"tax \",x+y+z+a) \n",
        "   \n",
        "\n",
        "  \n"
      ]
    },
    {
      "cell_type": "code",
      "source": [],
      "metadata": {
        "id": "HM-4aGqTMZ9a"
      },
      "execution_count": 45,
      "outputs": []
    }
  ]
}