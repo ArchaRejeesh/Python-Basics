{
  "nbformat": 4,
  "nbformat_minor": 0,
  "metadata": {
    "colab": {
      "provenance": [],
      "authorship_tag": "ABX9TyMb45CZiPm+J/GBJ8qsipv7",
      "include_colab_link": true
    },
    "kernelspec": {
      "name": "python3",
      "display_name": "Python 3"
    },
    "language_info": {
      "name": "python"
    }
  },
  "cells": [
    {
      "cell_type": "markdown",
      "metadata": {
        "id": "view-in-github",
        "colab_type": "text"
      },
      "source": [
        "<a href=\"https://colab.research.google.com/github/ArchaRejeesh/Python-Basics/blob/main/Untitled10.ipynb\" target=\"_parent\"><img src=\"https://colab.research.google.com/assets/colab-badge.svg\" alt=\"Open In Colab\"/></a>"
      ]
    },
    {
      "cell_type": "code",
      "execution_count": 2,
      "metadata": {
        "colab": {
          "base_uri": "https://localhost:8080/"
        },
        "id": "SGAicjFMmOwB",
        "outputId": "a8a1520e-3fc5-4e9d-d2dc-6e0ef3598247"
      },
      "outputs": [
        {
          "output_type": "stream",
          "name": "stdout",
          "text": [
            "enter passengers travel sourcekochi to kottayam\n",
            "enter passengers travel destinationkottayam\n",
            "enter number of passengers34\n",
            "kochi to kottayam\n",
            "kottayam\n",
            "34\n"
          ]
        }
      ],
      "source": [
        "x=(input(\"enter passengers travel source\"))\n",
        "y=(input(\"enter passengers travel destination\"))\n",
        "z=int(input(\"enter number of passengers\"))\n",
        "print(x)\n",
        "print(y)\n",
        "print(z)"
      ]
    },
    {
      "cell_type": "code",
      "source": [
        "x=int(input(\"total ticket fare\"))\n",
        "z=int(input(\"number per person\"))\n",
        "print(\"ticket fare per person\",x/z)\n"
      ],
      "metadata": {
        "colab": {
          "base_uri": "https://localhost:8080/"
        },
        "id": "2KXQKxaImXkJ",
        "outputId": "1e4a9bd4-5b24-47e7-f5fb-186c39a2ae9e"
      },
      "execution_count": 5,
      "outputs": [
        {
          "output_type": "stream",
          "name": "stdout",
          "text": [
            "total ticket fare100\n",
            "number per person20\n",
            "ticket fare per person 5.0\n"
          ]
        }
      ]
    },
    {
      "cell_type": "code",
      "source": [
        "x=(input(\"passenger name\"))\n",
        "y=int(input(\"ticket fare\"))\n",
        "print(\"passenger name\" ,x ,\"ticket fare\",y)"
      ],
      "metadata": {
        "colab": {
          "base_uri": "https://localhost:8080/"
        },
        "id": "cKR-0jrusRXL",
        "outputId": "93e91cc4-bb5e-450e-b399-d2101ed23687"
      },
      "execution_count": 6,
      "outputs": [
        {
          "output_type": "stream",
          "name": "stdout",
          "text": [
            "passenger namearcha\n",
            "ticket fare100\n",
            "passenger name archa ticket fare 100\n"
          ]
        }
      ]
    },
    {
      "cell_type": "code",
      "source": [
        "x=int(input(\"enter total fare\"))\n",
        "if x>10000:\n",
        "  print(\"eligible for discount\")\n",
        "else:\n",
        "  print(\"not eligible\")"
      ],
      "metadata": {
        "colab": {
          "base_uri": "https://localhost:8080/"
        },
        "id": "IMzj498sunse",
        "outputId": "3e6c0b7e-aeaf-4558-f0c3-38cb20b30ee1"
      },
      "execution_count": 7,
      "outputs": [
        {
          "output_type": "stream",
          "name": "stdout",
          "text": [
            "enter total fare1000\n",
            "not eligible\n"
          ]
        }
      ]
    },
    {
      "cell_type": "code",
      "source": [
        "x=int(input(\"enter total fare\"))\n",
        "if x>15000:\n",
        "  print(\"eligible for 20%\")\n",
        "else:\n",
        "  print(\" eligible for 10%\")"
      ],
      "metadata": {
        "colab": {
          "base_uri": "https://localhost:8080/"
        },
        "id": "lkscak22v-j8",
        "outputId": "b74b105d-36ba-4aa1-c0d7-ffb898244fb8"
      },
      "execution_count": 9,
      "outputs": [
        {
          "output_type": "stream",
          "name": "stdout",
          "text": [
            "enter total fare10000\n",
            " eligible for 10%\n"
          ]
        }
      ]
    },
    {
      "cell_type": "code",
      "source": [
        "x=int(input(\"ticket fare\"))\n",
        "if x>15000:\n",
        "  i=x*20/100\n",
        "  print(i,\"discount\")\n",
        "if x>=10000:\n",
        "   z=x*20/100\n",
        "   print(z,\"disount\")\n",
        "if x<10000:\n",
        "   y=x*5/100\n",
        "   print(y,\"discount\")"
      ],
      "metadata": {
        "colab": {
          "base_uri": "https://localhost:8080/"
        },
        "id": "gSnFXFU1wvKA",
        "outputId": "c2c35c38-4870-4637-a312-a2cd9c6d54a5"
      },
      "execution_count": 10,
      "outputs": [
        {
          "output_type": "stream",
          "name": "stdout",
          "text": [
            "ticket fare10000\n",
            "2000.0 disount\n"
          ]
        }
      ]
    },
    {
      "cell_type": "code",
      "source": [
        "x=int(input(\"enter the number\"))\n",
        "if x>0:\n",
        "  print(x,\"number is positive\")\n",
        "elif x==0:\n",
        "  print(x,\"number is zero\")\n",
        "else:\n",
        "  print(x,\"number is negative\")\n"
      ],
      "metadata": {
        "colab": {
          "base_uri": "https://localhost:8080/"
        },
        "id": "TvMrObSwzgo4",
        "outputId": "040b6379-65f3-43f1-d326-19f96c997a5c"
      },
      "execution_count": 11,
      "outputs": [
        {
          "output_type": "stream",
          "name": "stdout",
          "text": [
            "enter the number20\n",
            "20 number is positive\n"
          ]
        }
      ]
    },
    {
      "cell_type": "code",
      "source": [
        "x=int(input(\"age of paasenger\"))\n",
        "if x>18:\n",
        "  print(\"adult\")\n",
        "elif x>=13 and x<=18:\n",
        "  print(\"teenager\")\n",
        "elif x>=6 and x<=12:\n",
        "  print(\"kid\")\n",
        "elif x>=2 and x<=5:\n",
        "  print(\"kid\")\n",
        "else:\n",
        "  print(\"infant\")"
      ],
      "metadata": {
        "colab": {
          "base_uri": "https://localhost:8080/"
        },
        "id": "xxB0uOGL2Q6p",
        "outputId": "21fef31c-0607-41b6-a326-96e553e3dd80"
      },
      "execution_count": 16,
      "outputs": [
        {
          "output_type": "stream",
          "name": "stdout",
          "text": [
            "age of paasenger69\n",
            "adult\n"
          ]
        }
      ]
    },
    {
      "cell_type": "code",
      "source": [
        "x=input(\"Passengers Initial \")\n",
        "if x==\"A\":\n",
        "  print(\"Vowel\")\n",
        "elif x==\"E\":\n",
        "  print(\"Vowel\")\n",
        "elif x==\"I\":\n",
        "  print(\"Vowel\")\n",
        "elif x==\"O\":\n",
        "  print(\"Vowel\")\n",
        "elif x==\"U\":\n",
        "  print(\"Vowel\")\n",
        "else:\n",
        "  print(\"Not Vowel\")"
      ],
      "metadata": {
        "colab": {
          "base_uri": "https://localhost:8080/"
        },
        "id": "zKTKfbLE4HFN",
        "outputId": "0719a286-4959-4687-e524-0510ef3cf263"
      },
      "execution_count": 17,
      "outputs": [
        {
          "output_type": "stream",
          "name": "stdout",
          "text": [
            "Passengers Initial A\n",
            "Vowel\n"
          ]
        }
      ]
    },
    {
      "cell_type": "code",
      "source": [
        "x=input(\"Enter Your Name \")\n",
        "for a in x:\n",
        "  print(a)"
      ],
      "metadata": {
        "colab": {
          "base_uri": "https://localhost:8080/"
        },
        "id": "Qqt12HFw5MnM",
        "outputId": "511df350-60d9-4ed9-aa14-257843a036f3"
      },
      "execution_count": 18,
      "outputs": [
        {
          "output_type": "stream",
          "name": "stdout",
          "text": [
            "Enter Your Name archa\n",
            "a\n",
            "r\n",
            "c\n",
            "h\n",
            "a\n"
          ]
        }
      ]
    },
    {
      "cell_type": "code",
      "source": [
        "x=int(input(\"Enter Starting Value \"))\n",
        "y=int(input(\"Enter Ending Value \"))\n",
        "z=range(x,y) \n",
        "for a in z:\n",
        "  if a%2!=0 :\n",
        "    print(a)\n"
      ],
      "metadata": {
        "colab": {
          "base_uri": "https://localhost:8080/"
        },
        "id": "2vA-Yfnu7efI",
        "outputId": "4fd9033d-bd45-4acc-d814-337d1bae1da0"
      },
      "execution_count": 22,
      "outputs": [
        {
          "output_type": "stream",
          "name": "stdout",
          "text": [
            "Enter Starting Value 12\n",
            "Enter Ending Value 14\n",
            "13\n"
          ]
        }
      ]
    },
    {
      "cell_type": "code",
      "source": [
        "k=0\n",
        "for a in range(1,10):\n",
        "  k=k+a\n",
        "  print(a,k)"
      ],
      "metadata": {
        "colab": {
          "base_uri": "https://localhost:8080/"
        },
        "id": "Xc5NhpAD8DMG",
        "outputId": "066daf7b-dcbd-40e9-fece-eb15846e21f1"
      },
      "execution_count": 23,
      "outputs": [
        {
          "output_type": "stream",
          "name": "stdout",
          "text": [
            "1 1\n",
            "2 3\n",
            "3 6\n",
            "4 10\n",
            "5 15\n",
            "6 21\n",
            "7 28\n",
            "8 36\n",
            "9 45\n"
          ]
        }
      ]
    },
    {
      "cell_type": "code",
      "source": [],
      "metadata": {
        "id": "7AFXbgsZ-vw3"
      },
      "execution_count": null,
      "outputs": []
    }
  ]
}