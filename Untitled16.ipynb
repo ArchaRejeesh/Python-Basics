{
  "nbformat": 4,
  "nbformat_minor": 0,
  "metadata": {
    "colab": {
      "provenance": [],
      "authorship_tag": "ABX9TyPZzS7qZb0iykwh4uhnBA0H",
      "include_colab_link": true
    },
    "kernelspec": {
      "name": "python3",
      "display_name": "Python 3"
    },
    "language_info": {
      "name": "python"
    }
  },
  "cells": [
    {
      "cell_type": "markdown",
      "metadata": {
        "id": "view-in-github",
        "colab_type": "text"
      },
      "source": [
        "<a href=\"https://colab.research.google.com/github/ArchaRejeesh/Python-Basics/blob/main/Untitled16.ipynb\" target=\"_parent\"><img src=\"https://colab.research.google.com/assets/colab-badge.svg\" alt=\"Open In Colab\"/></a>"
      ]
    },
    {
      "cell_type": "code",
      "execution_count": 6,
      "metadata": {
        "id": "1m2OaWYSwt6E"
      },
      "outputs": [],
      "source": [
        "def fifa():\n",
        "  print(\"fifa world cup 2022\")\n",
        "  fifa() "
      ]
    },
    {
      "cell_type": "code",
      "source": [
        "def name(firstname,middlename,lastname):\n",
        "  print(firstname,middlename,lastname)\n",
        "name(\"x\",\"y\",\"z\")\n"
      ],
      "metadata": {
        "colab": {
          "base_uri": "https://localhost:8080/"
        },
        "id": "QlMmwGGhwvW9",
        "outputId": "53166250-ce46-4fb1-9f38-69a925d211e3"
      },
      "execution_count": 7,
      "outputs": [
        {
          "output_type": "stream",
          "name": "stdout",
          "text": [
            "x y z\n"
          ]
        }
      ]
    },
    {
      "cell_type": "code",
      "source": [
        "def name(firstname,middlename,lastname):\n",
        "  print(lastname,middlename,firstname)\n",
        "name(lastname='z',middlename='y',firstname='x')"
      ],
      "metadata": {
        "colab": {
          "base_uri": "https://localhost:8080/"
        },
        "id": "NuiGWE-_z72O",
        "outputId": "8eea89af-4759-4d90-92cc-51f9ee43d813"
      },
      "execution_count": 8,
      "outputs": [
        {
          "output_type": "stream",
          "name": "stdout",
          "text": [
            "z y x\n"
          ]
        }
      ]
    },
    {
      "cell_type": "code",
      "source": [
        "def football(*x):\n",
        "  print(\"2nd favourite football palyer \",x[1])\n",
        "football('ronaldo','messi','neymar')"
      ],
      "metadata": {
        "colab": {
          "base_uri": "https://localhost:8080/"
        },
        "id": "fIZK25An0TJJ",
        "outputId": "09ee38cc-a31c-4b59-d1bb-2e935e341bf4"
      },
      "execution_count": 9,
      "outputs": [
        {
          "output_type": "stream",
          "name": "stdout",
          "text": [
            "2nd favourite football palyer  messi\n"
          ]
        }
      ]
    },
    {
      "cell_type": "code",
      "source": [
        "def fun_name(country = \"norway\"):\n",
        " print(\"i am from \" + country)\n",
        "\n",
        "fun_name(\"Sweden\")\n",
        "fun_name(\"India\")\n",
        "fun_name(\"norway\")\n",
        "fun_name(\"brazil\")"
      ],
      "metadata": {
        "colab": {
          "base_uri": "https://localhost:8080/"
        },
        "id": "Dg69TaZa0Y5T",
        "outputId": "13d13a27-6cc1-4fde-baae-1d76894d9081"
      },
      "execution_count": 10,
      "outputs": [
        {
          "output_type": "stream",
          "name": "stdout",
          "text": [
            "i am from Sweden\n",
            "i am from India\n",
            "i am from norway\n",
            "i am from brazil\n"
          ]
        }
      ]
    },
    {
      "cell_type": "code",
      "source": [],
      "metadata": {
        "id": "EYZmgmEr2YYP"
      },
      "execution_count": null,
      "outputs": []
    }
  ]
}